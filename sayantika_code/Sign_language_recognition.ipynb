{
  "nbformat": 4,
  "nbformat_minor": 0,
  "metadata": {
    "colab": {
      "provenance": []
    },
    "kernelspec": {
      "name": "python3",
      "display_name": "Python 3"
    },
    "language_info": {
      "name": "python"
    }
  },
  "cells": [
    {
      "cell_type": "code",
      "execution_count": null,
      "metadata": {
        "id": "eb_SfsbUXQe8"
      },
      "outputs": [],
      "source": [
        "import os\n",
        "import torch\n",
        "import copy\n",
        "from tqdm import tqdm_notebook\n",
        "from torchvision.transforms.functional import to_pil_image\n",
        "import matplotlib.pylab as plt\n",
        "from tqdm import tqdm_notebook"
      ]
    },
    {
      "cell_type": "code",
      "source": [
        "from google.colab import drive\n",
        "drive.mount('/content/drive')"
      ],
      "metadata": {
        "colab": {
          "base_uri": "https://localhost:8080/"
        },
        "id": "Ey35G8wcZYyC",
        "outputId": "29c9d1e5-1a8d-4d0f-968c-3c50790316b4"
      },
      "execution_count": null,
      "outputs": [
        {
          "output_type": "stream",
          "name": "stdout",
          "text": [
            "Mounted at /content/drive\n"
          ]
        }
      ]
    },
    {
      "cell_type": "markdown",
      "source": [
        "# Import data & split"
      ],
      "metadata": {
        "id": "JjrFHBAfXVff"
      }
    },
    {
      "cell_type": "code",
      "source": [
        "def get_vids(path2imgs):\n",
        "    listOfCats = os.listdir(path2imgs)\n",
        "    ids = []\n",
        "    labels = []\n",
        "    for category in listOfCats:\n",
        "        path2category = os.path.join(path2imgs, category)\n",
        "        listOfvids = os.listdir(path2category)\n",
        "        path2vids= [os.path.join(path2category,los) for los in listOfvids]\n",
        "        ids.extend(path2vids)                       #extend adds each element of the list to the list being extend and not the whole list as 1 elem\n",
        "        labels.extend([category.split('_')[0]]*len(listOfvids))   #making the Y variable (labels are same for a list of videos)\n",
        "    return ids, labels, listOfCats"
      ],
      "metadata": {
        "id": "zy8Y1ATzXd_S"
      },
      "execution_count": null,
      "outputs": []
    },
    {
      "cell_type": "code",
      "source": [
        "path2data = \"/content/drive/MyDrive/AI_ML_project/dataset_ISL\"\n",
        "sub_folder_jpg = \"Cropped_Frames\"\n",
        "path2imgs = os.path.join(path2data, sub_folder_jpg)\n",
        "\n",
        "all_vids, all_labels, cats = get_vids(path2imgs)\n",
        "cats = [name.split('_')[0] for name in cats]\n",
        "len(all_vids), len(all_labels), len(cats)"
      ],
      "metadata": {
        "colab": {
          "base_uri": "https://localhost:8080/"
        },
        "id": "91l159RHYfTT",
        "outputId": "bb021217-85dd-4d1d-cded-da0d960de271"
      },
      "execution_count": null,
      "outputs": [
        {
          "output_type": "execute_result",
          "data": {
            "text/plain": [
              "(412, 412, 8)"
            ]
          },
          "metadata": {},
          "execution_count": 15
        }
      ]
    },
    {
      "cell_type": "code",
      "source": [
        "all_vids[:1], all_labels[:3], cats"
      ],
      "metadata": {
        "colab": {
          "base_uri": "https://localhost:8080/"
        },
        "id": "xwTomoW1Zpyg",
        "outputId": "165570df-a80b-4a1e-bb1c-8c0ca2e0b609"
      },
      "execution_count": null,
      "outputs": [
        {
          "output_type": "execute_result",
          "data": {
            "text/plain": [
              "(['/content/drive/MyDrive/AI_ML_project/dataset_ISL/Cropped_Frames/accident_Cropped/accident_Crop_001_01'],\n",
              " ['accident', 'accident', 'accident'],\n",
              " ['accident', 'call', 'doctor', 'help', 'hot', 'lose', 'pain', 'thief'])"
            ]
          },
          "metadata": {},
          "execution_count": 12
        }
      ]
    },
    {
      "cell_type": "code",
      "source": [
        "# unique id for each label\n",
        "labels_dict = {}\n",
        "ind = 0\n",
        "for uc in cats:\n",
        "    labels_dict[uc] = ind\n",
        "    ind+=1\n",
        "labels_dict"
      ],
      "metadata": {
        "colab": {
          "base_uri": "https://localhost:8080/"
        },
        "id": "FWquOJymbomr",
        "outputId": "0d2f1088-5bfa-4ab0-817d-d6aba4f61370"
      },
      "execution_count": null,
      "outputs": [
        {
          "output_type": "execute_result",
          "data": {
            "text/plain": [
              "{'accident': 0,\n",
              " 'call': 1,\n",
              " 'doctor': 2,\n",
              " 'help': 3,\n",
              " 'hot': 4,\n",
              " 'lose': 5,\n",
              " 'pain': 6,\n",
              " 'thief': 7}"
            ]
          },
          "metadata": {},
          "execution_count": 16
        }
      ]
    },
    {
      "cell_type": "markdown",
      "source": [
        "## SPLIT DATA"
      ],
      "metadata": {
        "id": "iP4ehuxdebJD"
      }
    },
    {
      "cell_type": "code",
      "source": [
        "from sklearn.model_selection import StratifiedShuffleSplit\n",
        "\n",
        "sss = StratifiedShuffleSplit(n_splits=2, test_size=0.1, random_state=42)\n",
        "train_indx, test_indx = next(sss.split(all_vids, all_labels))\n",
        "\n",
        "train_ids = [all_vids[ind] for ind in train_indx]\n",
        "train_labels = [all_vids[ind] for ind in train_indx]\n",
        "print(len(train_ids), len(train_labels))\n",
        "\n",
        "test_ids = [all_vids[ind] for ind in test_indx]\n",
        "test_labels = [all_vids[ind] for ind in test_indx]\n",
        "print(len(test_ids), len(test_labels))"
      ],
      "metadata": {
        "colab": {
          "base_uri": "https://localhost:8080/"
        },
        "id": "AfriODpEeDP5",
        "outputId": "43e8149d-f102-4fb3-b3b3-8bc0ebf46206"
      },
      "execution_count": null,
      "outputs": [
        {
          "output_type": "stream",
          "name": "stdout",
          "text": [
            "370 370\n",
            "42 42\n"
          ]
        }
      ]
    }
  ]
}