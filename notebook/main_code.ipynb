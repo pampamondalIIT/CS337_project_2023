{
 "cells": [
  {
   "cell_type": "code",
   "execution_count": 3,
   "id": "01c423f9-a3d1-48a6-8cc4-b9289ba2e01c",
   "metadata": {},
   "outputs": [
    {
     "name": "stdout",
     "output_type": "stream",
     "text": [
      "Collecting tqdm\n",
      "  Using cached tqdm-4.66.1-py3-none-any.whl (78 kB)\n",
      "Requirement already satisfied: torch in /home/roy/.pyenv/versions/3.10.2/envs/ai_ml_lab/lib/python3.10/site-packages (2.1.0)\n",
      "Requirement already satisfied: torchvision in /home/roy/.pyenv/versions/3.10.2/envs/ai_ml_lab/lib/python3.10/site-packages (0.16.0)\n",
      "Requirement already satisfied: nvidia-cusolver-cu12==11.4.5.107 in /home/roy/.pyenv/versions/3.10.2/envs/ai_ml_lab/lib/python3.10/site-packages (from torch) (11.4.5.107)\n",
      "Requirement already satisfied: filelock in /home/roy/.pyenv/versions/3.10.2/envs/ai_ml_lab/lib/python3.10/site-packages (from torch) (3.13.1)\n",
      "Requirement already satisfied: sympy in /home/roy/.pyenv/versions/3.10.2/envs/ai_ml_lab/lib/python3.10/site-packages (from torch) (1.12)\n",
      "Requirement already satisfied: fsspec in /home/roy/.pyenv/versions/3.10.2/envs/ai_ml_lab/lib/python3.10/site-packages (from torch) (2023.10.0)\n",
      "Requirement already satisfied: nvidia-cudnn-cu12==8.9.2.26 in /home/roy/.pyenv/versions/3.10.2/envs/ai_ml_lab/lib/python3.10/site-packages (from torch) (8.9.2.26)\n",
      "Requirement already satisfied: triton==2.1.0 in /home/roy/.pyenv/versions/3.10.2/envs/ai_ml_lab/lib/python3.10/site-packages (from torch) (2.1.0)\n",
      "Requirement already satisfied: nvidia-cuda-nvrtc-cu12==12.1.105 in /home/roy/.pyenv/versions/3.10.2/envs/ai_ml_lab/lib/python3.10/site-packages (from torch) (12.1.105)\n",
      "Requirement already satisfied: typing-extensions in /home/roy/.pyenv/versions/3.10.2/envs/ai_ml_lab/lib/python3.10/site-packages (from torch) (4.8.0)\n",
      "Requirement already satisfied: nvidia-curand-cu12==10.3.2.106 in /home/roy/.pyenv/versions/3.10.2/envs/ai_ml_lab/lib/python3.10/site-packages (from torch) (10.3.2.106)\n",
      "Requirement already satisfied: nvidia-nccl-cu12==2.18.1 in /home/roy/.pyenv/versions/3.10.2/envs/ai_ml_lab/lib/python3.10/site-packages (from torch) (2.18.1)\n",
      "Requirement already satisfied: nvidia-cuda-cupti-cu12==12.1.105 in /home/roy/.pyenv/versions/3.10.2/envs/ai_ml_lab/lib/python3.10/site-packages (from torch) (12.1.105)\n",
      "Requirement already satisfied: jinja2 in /home/roy/.pyenv/versions/3.10.2/envs/ai_ml_lab/lib/python3.10/site-packages (from torch) (3.1.2)\n",
      "Requirement already satisfied: nvidia-cusparse-cu12==12.1.0.106 in /home/roy/.pyenv/versions/3.10.2/envs/ai_ml_lab/lib/python3.10/site-packages (from torch) (12.1.0.106)\n",
      "Requirement already satisfied: nvidia-cublas-cu12==12.1.3.1 in /home/roy/.pyenv/versions/3.10.2/envs/ai_ml_lab/lib/python3.10/site-packages (from torch) (12.1.3.1)\n",
      "Requirement already satisfied: nvidia-cuda-runtime-cu12==12.1.105 in /home/roy/.pyenv/versions/3.10.2/envs/ai_ml_lab/lib/python3.10/site-packages (from torch) (12.1.105)\n",
      "Requirement already satisfied: nvidia-cufft-cu12==11.0.2.54 in /home/roy/.pyenv/versions/3.10.2/envs/ai_ml_lab/lib/python3.10/site-packages (from torch) (11.0.2.54)\n",
      "Requirement already satisfied: nvidia-nvtx-cu12==12.1.105 in /home/roy/.pyenv/versions/3.10.2/envs/ai_ml_lab/lib/python3.10/site-packages (from torch) (12.1.105)\n",
      "Requirement already satisfied: networkx in /home/roy/.pyenv/versions/3.10.2/envs/ai_ml_lab/lib/python3.10/site-packages (from torch) (3.2.1)\n",
      "Requirement already satisfied: nvidia-nvjitlink-cu12 in /home/roy/.pyenv/versions/3.10.2/envs/ai_ml_lab/lib/python3.10/site-packages (from nvidia-cusolver-cu12==11.4.5.107->torch) (12.3.52)\n",
      "Requirement already satisfied: numpy in /home/roy/.pyenv/versions/3.10.2/envs/ai_ml_lab/lib/python3.10/site-packages (from torchvision) (1.26.1)\n",
      "Requirement already satisfied: requests in /home/roy/.pyenv/versions/3.10.2/envs/ai_ml_lab/lib/python3.10/site-packages (from torchvision) (2.31.0)\n",
      "Requirement already satisfied: pillow!=8.3.*,>=5.3.0 in /home/roy/.pyenv/versions/3.10.2/envs/ai_ml_lab/lib/python3.10/site-packages (from torchvision) (10.1.0)\n",
      "Requirement already satisfied: MarkupSafe>=2.0 in /home/roy/.pyenv/versions/3.10.2/envs/ai_ml_lab/lib/python3.10/site-packages (from jinja2->torch) (2.1.3)\n",
      "Requirement already satisfied: charset-normalizer<4,>=2 in /home/roy/.pyenv/versions/3.10.2/envs/ai_ml_lab/lib/python3.10/site-packages (from requests->torchvision) (3.3.1)\n",
      "Requirement already satisfied: certifi>=2017.4.17 in /home/roy/.pyenv/versions/3.10.2/envs/ai_ml_lab/lib/python3.10/site-packages (from requests->torchvision) (2023.7.22)\n",
      "Requirement already satisfied: idna<4,>=2.5 in /home/roy/.pyenv/versions/3.10.2/envs/ai_ml_lab/lib/python3.10/site-packages (from requests->torchvision) (3.4)\n",
      "Requirement already satisfied: urllib3<3,>=1.21.1 in /home/roy/.pyenv/versions/3.10.2/envs/ai_ml_lab/lib/python3.10/site-packages (from requests->torchvision) (2.0.7)\n",
      "Requirement already satisfied: mpmath>=0.19 in /home/roy/.pyenv/versions/3.10.2/envs/ai_ml_lab/lib/python3.10/site-packages (from sympy->torch) (1.3.0)\n",
      "Installing collected packages: tqdm\n",
      "Successfully installed tqdm-4.66.1\n",
      "\u001b[33mWARNING: You are using pip version 21.2.4; however, version 23.3.1 is available.\n",
      "You should consider upgrading via the '/home/roy/.pyenv/versions/3.10.2/envs/ai_ml_lab/bin/python3.10 -m pip install --upgrade pip' command.\u001b[0m\n"
     ]
    }
   ],
   "source": [
    "!pip install tqdm torch torchvision "
   ]
  },
  {
   "cell_type": "code",
   "execution_count": 4,
   "id": "aaa60cc3-aea9-454b-8999-7d036ea1317a",
   "metadata": {
    "id": "eb_SfsbUXQe8"
   },
   "outputs": [],
   "source": [
    "import os\n",
    "import torch\n",
    "import copy\n",
    "from tqdm import tqdm_notebook\n",
    "from torchvision.transforms.functional import to_pil_image\n",
    "import matplotlib.pylab as plt\n",
    "from tqdm import tqdm_notebook"
   ]
  },
  {
   "cell_type": "markdown",
   "id": "9e3c746f-0d23-4ce4-a124-a4196174de86",
   "metadata": {},
   "source": [
    "### Import data and split"
   ]
  },
  {
   "cell_type": "code",
   "execution_count": 8,
   "id": "8326d51d-e955-480e-b405-7c5a51cbe173",
   "metadata": {
    "id": "zy8Y1ATzXd_S"
   },
   "outputs": [],
   "source": [
    "def get_vids(path2imgs):\n",
    "    listOfCats = os.listdir(path2imgs)\n",
    "    print(listOfCats)\n",
    "    ids = []\n",
    "    labels = []\n",
    "    for category in listOfCats:\n",
    "        path2category = os.path.join(path2imgs, category)\n",
    "        listOfvids = os.listdir(path2category)\n",
    "        path2vids= [os.path.join(path2category,los) for los in listOfvids]\n",
    "        ids.extend(path2vids)                       #extend adds each element of the list to the list being extend and not the whole list as 1 elem\n",
    "        labels.extend([category.split('_')[0]]*len(listOfvids))   #making the Y variable (labels are same for a list of videos)\n",
    "    return ids, labels, listOfCats"
   ]
  },
  {
   "cell_type": "code",
   "execution_count": 9,
   "id": "a064ef7f-2865-4db0-b34e-23d155a8d9e2",
   "metadata": {
    "colab": {
     "base_uri": "https://localhost:8080/"
    },
    "id": "91l159RHYfTT",
    "outputId": "bb021217-85dd-4d1d-cded-da0d960de271"
   },
   "outputs": [
    {
     "name": "stdout",
     "output_type": "stream",
     "text": [
      "['help_Cropped', 'doctor_Cropped', 'call_Cropped', 'pain_Cropped', 'accident_Cropped', 'lose_Cropped', 'hot_Cropped', 'thief_Cropped']\n"
     ]
    },
    {
     "data": {
      "text/plain": [
       "(412, 412, 8)"
      ]
     },
     "execution_count": 9,
     "metadata": {},
     "output_type": "execute_result"
    }
   ],
   "source": [
    "path2data = \"./Dataset\"\n",
    "sub_folder_jpg = \"Cropped_Frames\"\n",
    "path2imgs = os.path.join(path2data, sub_folder_jpg)\n",
    "\n",
    "all_vids, all_labels, cats = get_vids(path2imgs)\n",
    "cats = [name.split('_')[0] for name in cats]\n",
    "len(all_vids), len(all_labels), len(cats)"
   ]
  },
  {
   "cell_type": "code",
   "execution_count": 20,
   "id": "6f43716f-2d82-43b5-a96e-98440c11564f",
   "metadata": {},
   "outputs": [
    {
     "name": "stdout",
     "output_type": "stream",
     "text": [
      "['help', 'doctor', 'call', 'pain', 'accident', 'lose', 'hot', 'thief']\n",
      "{'help': 0, 'doctor': 1, 'call': 2, 'pain': 3, 'accident': 4, 'lose': 5, 'hot': 6, 'thief': 7}\n"
     ]
    }
   ],
   "source": [
    "print(cats)\n",
    "#assign int to each cat\n",
    "lables = {} #creating a dictonary for labels\n",
    "ids = 0\n",
    "for cat in cats:\n",
    "    lables[cat] = ids\n",
    "    ids += 1\n",
    "print(lables)\n",
    "    \n"
   ]
  },
  {
   "cell_type": "code",
   "execution_count": null,
   "id": "26aabcfc-a146-4e61-8582-14f384786e6d",
   "metadata": {},
   "outputs": [],
   "source": []
  },
  {
   "cell_type": "code",
   "execution_count": null,
   "id": "30e38460-7c23-4511-91f7-7a6351a07da5",
   "metadata": {},
   "outputs": [],
   "source": []
  }
 ],
 "metadata": {
  "kernelspec": {
   "display_name": "Python 3 (ipykernel)",
   "language": "python",
   "name": "python3"
  },
  "language_info": {
   "codemirror_mode": {
    "name": "ipython",
    "version": 3
   },
   "file_extension": ".py",
   "mimetype": "text/x-python",
   "name": "python",
   "nbconvert_exporter": "python",
   "pygments_lexer": "ipython3",
   "version": "3.10.2"
  }
 },
 "nbformat": 4,
 "nbformat_minor": 5
}
